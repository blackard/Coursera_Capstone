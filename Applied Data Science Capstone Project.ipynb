{
    "cells": [
        {
            "cell_type": "markdown",
            "metadata": {
                "collapsed": true
            },
            "source": "# Applied Data Science Capstone Project\nThis Jupyter Notebook is part of my Capstone Project for the IBM Data Sciece Professional Certificate.\n\nIn this Notebook, we explore the neighborhoods of Toronto, Canada.\n\nThe assignment is broken down into three parts.  Section headers mark the beginning of my work for each part of the assignment.  Click on the link to go to the top of that section:\n* [Section 1 - Data Collection](#section-1)\n* [Section 2 - Data Enrichment](#section-2)\n* [Section 3 - Exploration and Clustering](#section-3)"
        },
        {
            "cell_type": "markdown",
            "metadata": {},
            "source": "## Section 1 - Data Collection<a id='section-1'></a>\nIn this section we will build a Pandas Dataframe of Postal Code data for Canada from the [List of postal codes of Canada: M](https://en.wikipedia.org/wiki/List_of_postal_codes_of_Canada:_M \"WikiPedia List of postal codes of Canada: M\") WikiPedia page.  Additionally, some data cleansing is required, first to remove rows with Borough of \"Not assigned\", and second, for any remaining Neighbourhood of \"Not assigned\", set the Neighborhood to match thr Borough."
        },
        {
            "cell_type": "code",
            "execution_count": 100,
            "metadata": {},
            "outputs": [
                {
                    "data": {
                        "text/plain": "(180, 3)"
                    },
                    "execution_count": 100,
                    "metadata": {},
                    "output_type": "execute_result"
                }
            ],
            "source": "# Import Pandas\nimport pandas as pd\n\n# Use Pandas to process the web page's HTML\nsource_data = pd.read_html(\"https://en.wikipedia.org/wiki/List_of_postal_codes_of_Canada:_M\")\n\n# The data we're interested in is the first table in the collection\ndf = source_data[0]\ndf.shape"
        },
        {
            "cell_type": "code",
            "execution_count": 101,
            "metadata": {},
            "outputs": [
                {
                    "data": {
                        "text/plain": "(103, 3)"
                    },
                    "execution_count": 101,
                    "metadata": {},
                    "output_type": "execute_result"
                }
            ],
            "source": "# We have to clean the data\n# First, remove rows with Borough = \"Not assigned\"\ndf = df[df.Borough != \"Not assigned\"]\ndf.shape"
        },
        {
            "cell_type": "code",
            "execution_count": 102,
            "metadata": {},
            "outputs": [
                {
                    "data": {
                        "text/plain": "(0, 3)"
                    },
                    "execution_count": 102,
                    "metadata": {},
                    "output_type": "execute_result"
                }
            ],
            "source": "# Next we have to update remaining rows where Neighbourhood is \"Not assigned\" - it turns out there are no such entries\ndf[df.Neighbourhood == \"Not assigned\"].shape"
        },
        {
            "cell_type": "code",
            "execution_count": 103,
            "metadata": {},
            "outputs": [
                {
                    "data": {
                        "text/html": "<div>\n<style scoped>\n    .dataframe tbody tr th:only-of-type {\n        vertical-align: middle;\n    }\n\n    .dataframe tbody tr th {\n        vertical-align: top;\n    }\n\n    .dataframe thead th {\n        text-align: right;\n    }\n</style>\n<table border=\"1\" class=\"dataframe\">\n  <thead>\n    <tr style=\"text-align: right;\">\n      <th></th>\n      <th>Postal Code</th>\n      <th>Borough</th>\n      <th>Neighbourhood</th>\n    </tr>\n  </thead>\n  <tbody>\n    <tr>\n      <th>2</th>\n      <td>M3A</td>\n      <td>North York</td>\n      <td>Parkwoods</td>\n    </tr>\n    <tr>\n      <th>3</th>\n      <td>M4A</td>\n      <td>North York</td>\n      <td>Victoria Village</td>\n    </tr>\n    <tr>\n      <th>4</th>\n      <td>M5A</td>\n      <td>Downtown Toronto</td>\n      <td>Regent Park, Harbourfront</td>\n    </tr>\n    <tr>\n      <th>5</th>\n      <td>M6A</td>\n      <td>North York</td>\n      <td>Lawrence Manor, Lawrence Heights</td>\n    </tr>\n    <tr>\n      <th>6</th>\n      <td>M7A</td>\n      <td>Downtown Toronto</td>\n      <td>Queen's Park, Ontario Provincial Government</td>\n    </tr>\n  </tbody>\n</table>\n</div>",
                        "text/plain": "  Postal Code           Borough                                Neighbourhood\n2         M3A        North York                                    Parkwoods\n3         M4A        North York                             Victoria Village\n4         M5A  Downtown Toronto                    Regent Park, Harbourfront\n5         M6A        North York             Lawrence Manor, Lawrence Heights\n6         M7A  Downtown Toronto  Queen's Park, Ontario Provincial Government"
                    },
                    "execution_count": 103,
                    "metadata": {},
                    "output_type": "execute_result"
                }
            ],
            "source": "df.head()"
        },
        {
            "cell_type": "markdown",
            "metadata": {},
            "source": "This result satisfies the requirement for the first part of the assignment."
        },
        {
            "cell_type": "markdown",
            "metadata": {},
            "source": "## Section 2 - Data Enrichment<a id='section-2'></a>\nIn this section we enrich the Postal Code Dataframe, adding latitude and longitude data marking the aproximate center of the area covered by the Postal Code.  The core code for looking up the coordinates was provided in the assignment, and use here with comments."
        },
        {
            "cell_type": "code",
            "execution_count": null,
            "metadata": {},
            "outputs": [],
            "source": "# Install geocoder\n!pip install geocoder"
        },
        {
            "cell_type": "code",
            "execution_count": 106,
            "metadata": {},
            "outputs": [
                {
                    "data": {
                        "text/html": "<div>\n<style scoped>\n    .dataframe tbody tr th:only-of-type {\n        vertical-align: middle;\n    }\n\n    .dataframe tbody tr th {\n        vertical-align: top;\n    }\n\n    .dataframe thead th {\n        text-align: right;\n    }\n</style>\n<table border=\"1\" class=\"dataframe\">\n  <thead>\n    <tr style=\"text-align: right;\">\n      <th></th>\n      <th>Postal Code</th>\n      <th>Borough</th>\n      <th>Neighbourhood</th>\n      <th>Latitude</th>\n      <th>Longitude</th>\n    </tr>\n  </thead>\n  <tbody>\n    <tr>\n      <th>2</th>\n      <td>M3A</td>\n      <td>North York</td>\n      <td>Parkwoods</td>\n      <td>0.0</td>\n      <td>0.0</td>\n    </tr>\n    <tr>\n      <th>3</th>\n      <td>M4A</td>\n      <td>North York</td>\n      <td>Victoria Village</td>\n      <td>0.0</td>\n      <td>0.0</td>\n    </tr>\n    <tr>\n      <th>4</th>\n      <td>M5A</td>\n      <td>Downtown Toronto</td>\n      <td>Regent Park, Harbourfront</td>\n      <td>0.0</td>\n      <td>0.0</td>\n    </tr>\n    <tr>\n      <th>5</th>\n      <td>M6A</td>\n      <td>North York</td>\n      <td>Lawrence Manor, Lawrence Heights</td>\n      <td>0.0</td>\n      <td>0.0</td>\n    </tr>\n    <tr>\n      <th>6</th>\n      <td>M7A</td>\n      <td>Downtown Toronto</td>\n      <td>Queen's Park, Ontario Provincial Government</td>\n      <td>0.0</td>\n      <td>0.0</td>\n    </tr>\n  </tbody>\n</table>\n</div>",
                        "text/plain": "  Postal Code           Borough                                Neighbourhood  \\\n2         M3A        North York                                    Parkwoods   \n3         M4A        North York                             Victoria Village   \n4         M5A  Downtown Toronto                    Regent Park, Harbourfront   \n5         M6A        North York             Lawrence Manor, Lawrence Heights   \n6         M7A  Downtown Toronto  Queen's Park, Ontario Provincial Government   \n\n   Latitude  Longitude  \n2       0.0        0.0  \n3       0.0        0.0  \n4       0.0        0.0  \n5       0.0        0.0  \n6       0.0        0.0  "
                    },
                    "execution_count": 106,
                    "metadata": {},
                    "output_type": "execute_result"
                }
            ],
            "source": "# First, add the new columns to the Dataframe with zeros\ndf = df.assign(Latitude=[0.0 for _ in range(len(df))])\ndf = df.assign(Longitude=[0.0 for _ in range(len(df))])\n\ndf.head()"
        },
        {
            "cell_type": "code",
            "execution_count": 107,
            "metadata": {},
            "outputs": [],
            "source": "# Import geocoder\nimport geocoder\n\n# Iterate of the rows of the databrame\nfor index, row in df.iterrows():\n    # For each row, lookup the latitude and longitude value\n    # !!! Begin - This code was provided largely in the assignment\n    # initialize your variable to None\n    lat_lng_coords = None\n    # loop until you get the coordinates\n    while(lat_lng_coords is None):\n        # NOTE: Google failed to return results, but ArcGIS was very good at finding the coordinates\n        g = geocoder.arcgis('{}, Toronto, Ontario'.format(row[\"Postal Code\"]))\n        lat_lng_coords = g.latlng\n        \n    df.loc[index,\"Latitude\"] = lat_lng_coords[0]\n    df.loc[index,\"Longitude\"] = lat_lng_coords[1]\n    # !!! End - This code was provided largely in the assignment"
        },
        {
            "cell_type": "code",
            "execution_count": 108,
            "metadata": {},
            "outputs": [
                {
                    "data": {
                        "text/html": "<div>\n<style scoped>\n    .dataframe tbody tr th:only-of-type {\n        vertical-align: middle;\n    }\n\n    .dataframe tbody tr th {\n        vertical-align: top;\n    }\n\n    .dataframe thead th {\n        text-align: right;\n    }\n</style>\n<table border=\"1\" class=\"dataframe\">\n  <thead>\n    <tr style=\"text-align: right;\">\n      <th></th>\n      <th>Postal Code</th>\n      <th>Borough</th>\n      <th>Neighbourhood</th>\n      <th>Latitude</th>\n      <th>Longitude</th>\n    </tr>\n  </thead>\n  <tbody>\n    <tr>\n      <th>2</th>\n      <td>M3A</td>\n      <td>North York</td>\n      <td>Parkwoods</td>\n      <td>43.75245</td>\n      <td>-79.32991</td>\n    </tr>\n    <tr>\n      <th>3</th>\n      <td>M4A</td>\n      <td>North York</td>\n      <td>Victoria Village</td>\n      <td>43.73057</td>\n      <td>-79.31306</td>\n    </tr>\n    <tr>\n      <th>4</th>\n      <td>M5A</td>\n      <td>Downtown Toronto</td>\n      <td>Regent Park, Harbourfront</td>\n      <td>43.65512</td>\n      <td>-79.36264</td>\n    </tr>\n    <tr>\n      <th>5</th>\n      <td>M6A</td>\n      <td>North York</td>\n      <td>Lawrence Manor, Lawrence Heights</td>\n      <td>43.72327</td>\n      <td>-79.45042</td>\n    </tr>\n    <tr>\n      <th>6</th>\n      <td>M7A</td>\n      <td>Downtown Toronto</td>\n      <td>Queen's Park, Ontario Provincial Government</td>\n      <td>43.66253</td>\n      <td>-79.39188</td>\n    </tr>\n  </tbody>\n</table>\n</div>",
                        "text/plain": "  Postal Code           Borough                                Neighbourhood  \\\n2         M3A        North York                                    Parkwoods   \n3         M4A        North York                             Victoria Village   \n4         M5A  Downtown Toronto                    Regent Park, Harbourfront   \n5         M6A        North York             Lawrence Manor, Lawrence Heights   \n6         M7A  Downtown Toronto  Queen's Park, Ontario Provincial Government   \n\n   Latitude  Longitude  \n2  43.75245  -79.32991  \n3  43.73057  -79.31306  \n4  43.65512  -79.36264  \n5  43.72327  -79.45042  \n6  43.66253  -79.39188  "
                    },
                    "execution_count": 108,
                    "metadata": {},
                    "output_type": "execute_result"
                }
            ],
            "source": "df.head()"
        },
        {
            "cell_type": "markdown",
            "metadata": {},
            "source": "This result satisfies the requirement for the first part of the assignment."
        },
        {
            "cell_type": "markdown",
            "metadata": {},
            "source": "## Section 3 - Exploration and Clustering<a id='section-3'></a>\nNow we explor the Boroughs and Neighborhoods of Toronto using Foursquare's API."
        }
    ],
    "metadata": {
        "kernelspec": {
            "display_name": "Python 3.7",
            "language": "python",
            "name": "python3"
        },
        "language_info": {
            "codemirror_mode": {
                "name": "ipython",
                "version": 3
            },
            "file_extension": ".py",
            "mimetype": "text/x-python",
            "name": "python",
            "nbconvert_exporter": "python",
            "pygments_lexer": "ipython3",
            "version": "3.7.9"
        }
    },
    "nbformat": 4,
    "nbformat_minor": 1
}